{
 "cells": [
  {
   "cell_type": "code",
   "execution_count": null,
   "id": "b01dedb3-9526-4592-9a9b-af7395488929",
   "metadata": {},
   "outputs": [],
   "source": [
    "import pandas as pd\n",
    "\n",
    "class VacancyTransformer:\n",
    "    def __init__(self, csv):\n",
    "        self.csv = csv\n",
    "    \n",
    "    def load_data(self):\n",
    "        try:\n",
    "            self.data = pd.read_csv(self.csv)\n",
    "            print(\"Data loaded successfully!\")\n",
    "        except FileNotFoundError:\n",
    "            print(\"File not found. Please provide a valid CSV file path.\")\n",
    "        except Exception as e:\n",
    "            print(f\"An error occurred: {e}\")\n",
    "    \n",
    "    def transform_data(self):\n",
    "        if hasattr(self, 'data'):\n",
    "            \n",
    "            # Your data transformation logic here\n",
    "            \n",
    "            \n",
    "            print(\"Data transformation completed.\")\n",
    "        else:\n",
    "            print(\"No data loaded. Please load data first using the 'load_data' method.\")"
   ]
  },
  {
   "cell_type": "code",
   "execution_count": null,
   "id": "16baaac1-f280-4f00-a461-6e6be823bb9e",
   "metadata": {},
   "outputs": [],
   "source": [
    "import pandas as pd\n",
    "pd.read_csv(self.csv)"
   ]
  }
 ],
 "metadata": {
  "kernelspec": {
   "display_name": "dutchtown-env",
   "language": "python",
   "name": "dutchtown-env"
  },
  "language_info": {
   "codemirror_mode": {
    "name": "ipython",
    "version": 3
   },
   "file_extension": ".py",
   "mimetype": "text/x-python",
   "name": "python",
   "nbconvert_exporter": "python",
   "pygments_lexer": "ipython3",
   "version": "3.12.0"
  }
 },
 "nbformat": 4,
 "nbformat_minor": 5
}
