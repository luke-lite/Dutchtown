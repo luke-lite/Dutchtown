{
 "cells": [
  {
   "cell_type": "code",
   "execution_count": null,
   "id": "57d93fca-aafe-4f96-ba98-5a6a6edcb635",
   "metadata": {},
   "outputs": [],
   "source": [
    "import pandas as pd\n",
    "import matplotlib.pyplot as plt\n",
    "import glob\n",
    "import re\n",
    "pd.set_option('display.max_columns', None)"
   ]
  },
  {
   "cell_type": "code",
   "execution_count": null,
   "id": "1a8caa88-e2cc-4d6a-87a3-e81b0e9042b7",
   "metadata": {},
   "outputs": [],
   "source": [
    "parcels = pd.read_csv('grav-jeff-parcels.csv')\n",
    "parcels"
   ]
  },
  {
   "cell_type": "code",
   "execution_count": null,
   "id": "3f7d8ed6-9570-4c2d-ba1a-faad67b7be2b",
   "metadata": {},
   "outputs": [],
   "source": [
    "parcel_small = parcels['ParcelId']"
   ]
  },
  {
   "cell_type": "code",
   "execution_count": null,
   "id": "fc1bf18b-238b-4931-979d-9da55ffe65a5",
   "metadata": {},
   "outputs": [],
   "source": [
    "parcels['ParcelId']"
   ]
  },
  {
   "cell_type": "code",
   "execution_count": null,
   "id": "c25bf642-9c44-4ef8-80e5-4365d260c6ef",
   "metadata": {},
   "outputs": [],
   "source": [
    "csv_folder = 'stl_vacancy_data/'\n",
    "path = \"stl_vacancy_data/*.csv\"\n",
    "csv_list = []\n",
    "# vacancy_cat_df = pd.DataFrame(columns=['Date', 'V_Indeterminate', 'V_Possible', 'V_Very_likely', 'V_Definite'])\n",
    "# burden_cat_df = pd.DataFrame(columns=['Date', 'B_Zero', 'B_Low', 'B_Medium', 'B_High'])\n",
    "\n",
    "for fname in glob.glob(path):\n",
    "    csv_name = re.findall(r'stl_vacancy_data_\\d\\d\\d\\d-\\d\\d-\\d\\d.csv', fname)[0]\n",
    "    csv_list.append(csv_name)"
   ]
  },
  {
   "cell_type": "code",
   "execution_count": null,
   "id": "2a52722e-22c5-4bbe-84c4-7ee7fdb855ae",
   "metadata": {},
   "outputs": [],
   "source": [
    "csv_list"
   ]
  },
  {
   "cell_type": "code",
   "execution_count": null,
   "id": "7d8a4926-f230-4af4-94a7-3c617c9740d9",
   "metadata": {},
   "outputs": [],
   "source": [
    "stl_vacancy_old = pd.read_csv(csv_folder+csv_list[0])\n",
    "stl_vacancy_old"
   ]
  },
  {
   "cell_type": "code",
   "execution_count": null,
   "id": "e8da1e32-ea34-4f12-a575-44fe9df9ae85",
   "metadata": {},
   "outputs": [],
   "source": [
    "stl_vacancy_old.info()"
   ]
  },
  {
   "cell_type": "code",
   "execution_count": null,
   "id": "e8ccd90b-ce41-46be-b579-b27507e1564d",
   "metadata": {},
   "outputs": [],
   "source": [
    "combo = stl_vacancy_old.merge(parcel_small, left_on='Handle', right_on='ParcelId')\n",
    "combo"
   ]
  },
  {
   "cell_type": "code",
   "execution_count": null,
   "id": "242157cb-307f-4c53-baf4-47ee8de09ab5",
   "metadata": {},
   "outputs": [],
   "source": [
    "vacancy_ids = list(stl_vacancy_old['Handle'])\n",
    "parcel_ids = list(parcel_small)"
   ]
  },
  {
   "cell_type": "code",
   "execution_count": null,
   "id": "5bd1519e-2f43-4240-ac11-0f0265584527",
   "metadata": {},
   "outputs": [],
   "source": [
    "gp = stl_vacancy_old[stl_vacancy_old['NhdName'] == 'Gravois Park']\n",
    "gp"
   ]
  },
  {
   "cell_type": "code",
   "execution_count": null,
   "id": "94930310-7c08-4abc-b65f-3f0c4cebbeea",
   "metadata": {},
   "outputs": [],
   "source": [
    "for id in gp_ids:\n",
    "    if id in parcel_ids:\n",
    "        print('Exists')\n",
    "    # else:\n",
    "    #     print('False')"
   ]
  },
  {
   "cell_type": "code",
   "execution_count": null,
   "id": "8e366d1b-e645-4701-b40e-c9b9eab63071",
   "metadata": {},
   "outputs": [],
   "source": [
    "gp_ids = list(gp['Handle'])"
   ]
  },
  {
   "cell_type": "code",
   "execution_count": null,
   "id": "8b2c2483-f9dc-47d8-8c6c-4fbd8eaf57a7",
   "metadata": {},
   "outputs": [],
   "source": [
    "# gp_ids = [str(i) for i in gp_ids]"
   ]
  },
  {
   "cell_type": "code",
   "execution_count": null,
   "id": "087f9637-891b-4ed7-ab10-c3c31cc9f1b9",
   "metadata": {},
   "outputs": [],
   "source": [
    "# tac_ids = [i[:4]+ i[-4:-1] +'000' for i in gp_ids]\n",
    "# tac_ids"
   ]
  },
  {
   "cell_type": "code",
   "execution_count": null,
   "id": "2ec46c30-c0e8-42e6-aeb6-0e3a765c92b5",
   "metadata": {},
   "outputs": [],
   "source": [
    "# gp_ids = [i[:4]+i[-4:] for i in gp_ids]"
   ]
  },
  {
   "cell_type": "code",
   "execution_count": null,
   "id": "17aae9c4-cbb9-4d4e-95d6-771fa91e1e86",
   "metadata": {},
   "outputs": [],
   "source": [
    "# parcel_ids = [str(i) for i in parcel_ids]"
   ]
  },
  {
   "cell_type": "code",
   "execution_count": null,
   "id": "0e3142e9-2331-4b69-9e92-010a0fa8c1cb",
   "metadata": {},
   "outputs": [],
   "source": [
    "gp_ids"
   ]
  },
  {
   "cell_type": "code",
   "execution_count": null,
   "id": "bceb8d26-a0d6-4d68-a00e-c4c633ef96df",
   "metadata": {},
   "outputs": [],
   "source": [
    "parcel_ids = [i[:-3] for i in parcel_ids]\n",
    "parcel_ids"
   ]
  },
  {
   "cell_type": "code",
   "execution_count": null,
   "id": "bee5236d-796e-46ed-ae43-175822ddca85",
   "metadata": {},
   "outputs": [],
   "source": [
    "for i in tac_ids:\n",
    "    if i in parcel_ids:\n",
    "        print('Yes')"
   ]
  },
  {
   "cell_type": "code",
   "execution_count": null,
   "id": "7a55cbe7-c8c6-45a6-9ae0-3ba950677ba4",
   "metadata": {},
   "outputs": [],
   "source": [
    "parcels_handles = list(parcels['HANDLE'])\n",
    "parcels_handles"
   ]
  },
  {
   "cell_type": "code",
   "execution_count": null,
   "id": "6d23e933-30a1-4e45-ab28-d6f78cd7f849",
   "metadata": {},
   "outputs": [],
   "source": [
    "gp_ids"
   ]
  },
  {
   "cell_type": "code",
   "execution_count": null,
   "id": "e34f0588-408f-4a09-8636-0d489cfc9480",
   "metadata": {},
   "outputs": [],
   "source": [
    "missing = []\n",
    "for i in gp_ids:\n",
    "    if i  not in parcels_handles:\n",
    "        print('Yes')\n",
    "        missing.append(i)"
   ]
  },
  {
   "cell_type": "code",
   "execution_count": null,
   "id": "07cee8f9-40d7-44af-9ba2-91326b064890",
   "metadata": {},
   "outputs": [],
   "source": [
    "missing"
   ]
  }
 ],
 "metadata": {
  "kernelspec": {
   "display_name": "dutchtown-env",
   "language": "python",
   "name": "dutchtown-env"
  },
  "language_info": {
   "codemirror_mode": {
    "name": "ipython",
    "version": 3
   },
   "file_extension": ".py",
   "mimetype": "text/x-python",
   "name": "python",
   "nbconvert_exporter": "python",
   "pygments_lexer": "ipython3",
   "version": "3.12.0"
  }
 },
 "nbformat": 4,
 "nbformat_minor": 5
}
