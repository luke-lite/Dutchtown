{
 "cells": [
  {
   "cell_type": "code",
   "execution_count": null,
   "id": "1f1d3077-0019-4c2d-9540-ccff357773ad",
   "metadata": {},
   "outputs": [],
   "source": [
    "import pandas as pd\n",
    "import matplotlib.pyplot as plt\n",
    "import glob\n",
    "import re\n",
    "pd.set_option('display.max_columns', None)"
   ]
  },
  {
   "cell_type": "code",
   "execution_count": null,
   "id": "c2ecd60a-e430-4423-b19e-3cab1c96e450",
   "metadata": {},
   "outputs": [],
   "source": [
    "# geostl nghbd codes:\n",
    "    # gravois park = 19\n",
    "    # benton park west = 30\n",
    "    # dutchtown = 16\n",
    "# https://dynamic.stlouis-mo.gov/citydata/newdesign/sqlsearch.cfm\n",
    "# gravois_total_parcels = 1733\n",
    "# benton_park_west_total_parcels = 1693\n",
    "# dutchtown_total_parcels = 4850"
   ]
  },
  {
   "cell_type": "code",
   "execution_count": null,
   "id": "420ffa74-43d1-4a34-a247-0a91ea60de67",
   "metadata": {},
   "outputs": [],
   "source": [
    "csv_folder = 'stl_vacancy_data/'\n",
    "path = \"stl_vacancy_data/*.csv\"\n",
    "csv_list = []\n",
    "\n",
    "gj_vacancy_cat_df = pd.DataFrame(columns=['Date', 'V_Indeterminate', 'V_Possible', 'V_Very_likely', 'V_Definite'])\n",
    "gj_burden_cat_df = pd.DataFrame(columns=['Date', 'B_Zero', 'B_Low', 'B_Medium', 'B_High'])\n",
    "\n",
    "for fname in glob.glob(path):\n",
    "    csv_name = re.findall(r'stl_vacancy_data_\\d\\d\\d\\d-\\d\\d-\\d\\d.csv', fname)[0]\n",
    "    csv_list.append(csv_name)"
   ]
  },
  {
   "cell_type": "code",
   "execution_count": null,
   "id": "5496362c-68b2-41b0-9554-68844ef79fd3",
   "metadata": {},
   "outputs": [],
   "source": []
  },
  {
   "cell_type": "code",
   "execution_count": null,
   "id": "413b858f-43c5-43ce-bba5-21be164c8c9b",
   "metadata": {},
   "outputs": [],
   "source": []
  },
  {
   "cell_type": "code",
   "execution_count": null,
   "id": "508e0d6d-da64-4b46-a2f6-7e2e13f5be44",
   "metadata": {},
   "outputs": [],
   "source": []
  },
  {
   "cell_type": "code",
   "execution_count": null,
   "id": "ff29918f-81e4-4c2b-ba4e-9902529c084e",
   "metadata": {},
   "outputs": [],
   "source": []
  }
 ],
 "metadata": {
  "kernelspec": {
   "display_name": "dutchtown-env",
   "language": "python",
   "name": "dutchtown-env"
  },
  "language_info": {
   "codemirror_mode": {
    "name": "ipython",
    "version": 3
   },
   "file_extension": ".py",
   "mimetype": "text/x-python",
   "name": "python",
   "nbconvert_exporter": "python",
   "pygments_lexer": "ipython3",
   "version": "3.12.0"
  }
 },
 "nbformat": 4,
 "nbformat_minor": 5
}
