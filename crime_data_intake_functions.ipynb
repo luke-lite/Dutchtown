{
 "cells": [
  {
   "cell_type": "code",
   "execution_count": null,
   "id": "5b59e735-2184-4a1b-b7f7-644763316f0c",
   "metadata": {},
   "outputs": [],
   "source": [
    "import pandas as pd\n",
    "\n",
    "class CrimeTransformer:\n",
    "    def __init__(self, csv):\n",
    "        self.csv = csv\n",
    "\n",
    "    def save_data(self):\n",
    "        try:\n",
    "            # Create the 'historical_data' folder if it doesn't exist\n",
    "            if not os.path.exists('historical_data'):\n",
    "                os.makedirs('historical_data')\n",
    "            \n",
    "            # Save the data to a CSV file in the 'historical_data' folder\n",
    "            self.data.to_csv('historical_data/transformed_data.csv', index=False)\n",
    "            print(\"Data saved successfully to 'historical_data/transformed_data.csv'\")\n",
    "        except Exception as e:\n",
    "            print(f\"An error occurred while saving the data: {e}\")\n",
    "    \n",
    "    def load_data(self):\n",
    "        try:\n",
    "            self.data = pd.read_csv(self.csv)\n",
    "            print(\"Data loaded successfully!\")\n",
    "        except FileNotFoundError:\n",
    "            print(\"File not found. Please provide a valid CSV file path.\")\n",
    "        except Exception as e:\n",
    "            print(f\"An error occurred: {e}\")\n",
    "    \n",
    "    def transform_data(self):\n",
    "        if hasattr(self, 'data'):\n",
    "            \n",
    "            # Your data transformation logic here\n",
    "            \n",
    "            \n",
    "            print(\"Data transformation completed.\")\n",
    "        else:\n",
    "            print(\"No data loaded. Please load data first using the 'load_data' method.\")"
   ]
  },
  {
   "cell_type": "code",
   "execution_count": null,
   "id": "08ea65b5-e2ba-46ee-9ed7-8f7ffae1bbdf",
   "metadata": {},
   "outputs": [],
   "source": [
    "import pandas as pd\n",
    "pd.read_csv(self.csv)"
   ]
  },
  {
   "cell_type": "code",
   "execution_count": null,
   "id": "93c9ecb9-13fa-4f34-8ce9-a3fe0b4069d3",
   "metadata": {},
   "outputs": [],
   "source": []
  },
  {
   "cell_type": "code",
   "execution_count": null,
   "id": "951143ad-551c-45e1-b64d-3c25e93068de",
   "metadata": {},
   "outputs": [],
   "source": []
  },
  {
   "cell_type": "code",
   "execution_count": null,
   "id": "e3640ba2-e0c0-4c42-aa58-b285e65c3049",
   "metadata": {},
   "outputs": [],
   "source": []
  }
 ],
 "metadata": {
  "kernelspec": {
   "display_name": "dutchtown-env",
   "language": "python",
   "name": "dutchtown-env"
  },
  "language_info": {
   "codemirror_mode": {
    "name": "ipython",
    "version": 3
   },
   "file_extension": ".py",
   "mimetype": "text/x-python",
   "name": "python",
   "nbconvert_exporter": "python",
   "pygments_lexer": "ipython3",
   "version": "3.12.0"
  }
 },
 "nbformat": 4,
 "nbformat_minor": 5
}
