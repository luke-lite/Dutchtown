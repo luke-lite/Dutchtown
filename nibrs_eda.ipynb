{
 "cells": [
  {
   "cell_type": "code",
   "execution_count": null,
   "id": "206f392b-1b4a-48cd-8309-235b6a045f01",
   "metadata": {},
   "outputs": [],
   "source": [
    "import pandas as pd\n",
    "import matplotlib.pyplot as plt\n",
    "pd.set_option('display.max_columns', None)"
   ]
  },
  {
   "cell_type": "code",
   "execution_count": null,
   "id": "34675ab9-81e9-4a69-b560-40f1d5593efe",
   "metadata": {},
   "outputs": [],
   "source": [
    "nibrs_df = pd.read_csv('crime_data/nibrs_thru_dec_2023.csv')\n",
    "nibrs_df"
   ]
  },
  {
   "cell_type": "code",
   "execution_count": null,
   "id": "50c2910c-13c8-486f-a635-835e626f5530",
   "metadata": {},
   "outputs": [],
   "source": [
    "nibrs_df.info()"
   ]
  },
  {
   "cell_type": "code",
   "execution_count": null,
   "id": "105dc19e-516b-40cf-91ae-054f35ce0bf4",
   "metadata": {},
   "outputs": [],
   "source": [
    "nghbrhd_list = ['16', '17', '19', '30']\n",
    "mask = nibrs_df['neighborhood'].isin(nghbrhd_list)\n",
    "gj_nibrs_df = nibrs_df[mask]"
   ]
  },
  {
   "cell_type": "code",
   "execution_count": null,
   "id": "05a0c13c-9c80-4c05-a947-5a7ad7d3d0e8",
   "metadata": {},
   "outputs": [],
   "source": [
    "gj_nibrs_df"
   ]
  },
  {
   "cell_type": "code",
   "execution_count": null,
   "id": "9dccba3c-e689-463d-b6c7-308734111637",
   "metadata": {},
   "outputs": [],
   "source": []
  },
  {
   "cell_type": "code",
   "execution_count": null,
   "id": "2526a831-cf8a-41e7-b417-4684f1d8e9e1",
   "metadata": {},
   "outputs": [],
   "source": []
  },
  {
   "cell_type": "code",
   "execution_count": null,
   "id": "cebc1921-8236-4d08-aa4e-85e62e87ee60",
   "metadata": {},
   "outputs": [],
   "source": [
    "gj_parcels = pd.read_csv('grav-jeff-parcels.csv')\n",
    "gj_parcels['SITEADDR'].replace(r'\\s+', ' ', regex=True, inplace=True)\n",
    "gj_parcels"
   ]
  },
  {
   "cell_type": "code",
   "execution_count": null,
   "id": "129547ba-38f6-4123-97fa-8fcdf44e1d87",
   "metadata": {},
   "outputs": [],
   "source": [
    "gj_addr_list = list(gj_parcels['SITEADDR'])\n",
    "addr_mask = gj_nibrs_df['incidentlocation'].isin(gj_addr_list)\n",
    "gj_nibrs_df = gj_nibrs_df[addr_mask]\n",
    "gj_nibrs_df"
   ]
  },
  {
   "cell_type": "code",
   "execution_count": null,
   "id": "0baf1294-850f-40ff-9a64-5c6ffd2dd713",
   "metadata": {},
   "outputs": [],
   "source": [
    "gj_nibrs_df['offense'].unique()"
   ]
  },
  {
   "cell_type": "code",
   "execution_count": null,
   "id": "00fb120e-38e3-4ec4-a905-f05a0c90b457",
   "metadata": {},
   "outputs": [],
   "source": [
    "test_df = gj_nibrs_df[gj_nibrs_df['neighborhood'] == '30']\n",
    "test_df"
   ]
  },
  {
   "cell_type": "code",
   "execution_count": null,
   "id": "df9b542c-1a45-488a-9c4c-080bce51159f",
   "metadata": {},
   "outputs": [],
   "source": [
    "test_df[test_df['date_inc'].str.contains('12/../2023', regex=True)]"
   ]
  },
  {
   "cell_type": "code",
   "execution_count": null,
   "id": "73a0b9bf-17fa-4b81-9924-0ae04dbf3017",
   "metadata": {},
   "outputs": [],
   "source": [
    "test_df.info()"
   ]
  },
  {
   "cell_type": "code",
   "execution_count": null,
   "id": "4faf446c-992e-4506-80b3-77583c8f7957",
   "metadata": {},
   "outputs": [],
   "source": [
    "dec_df = nibrs_df[nibrs_df['date_inc'].str.contains('12/../2023', regex=True)]\n",
    "dec_df"
   ]
  },
  {
   "cell_type": "code",
   "execution_count": null,
   "id": "e57ed345-bd68-4729-bcb4-661532c11eba",
   "metadata": {},
   "outputs": [],
   "source": [
    "dec_df[dec_df['neighborhood'] == '30']"
   ]
  }
 ],
 "metadata": {
  "kernelspec": {
   "display_name": "dutchtown-env",
   "language": "python",
   "name": "dutchtown-env"
  },
  "language_info": {
   "codemirror_mode": {
    "name": "ipython",
    "version": 3
   },
   "file_extension": ".py",
   "mimetype": "text/x-python",
   "name": "python",
   "nbconvert_exporter": "python",
   "pygments_lexer": "ipython3",
   "version": "3.12.0"
  }
 },
 "nbformat": 4,
 "nbformat_minor": 5
}
